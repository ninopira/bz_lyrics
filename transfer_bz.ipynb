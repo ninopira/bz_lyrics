{
 "cells": [
  {
   "cell_type": "code",
   "execution_count": 1,
   "metadata": {
    "ExecuteTime": {
     "end_time": "2019-08-21T05:08:25.359433Z",
     "start_time": "2019-08-21T05:08:23.453150Z"
    }
   },
   "outputs": [],
   "source": [
    "import pandas as pd\n",
    "from gensim.models import Word2Vec\n",
    "import MeCab"
   ]
  },
  {
   "cell_type": "code",
   "execution_count": 2,
   "metadata": {
    "ExecuteTime": {
     "end_time": "2019-08-21T05:08:25.413625Z",
     "start_time": "2019-08-21T05:08:25.381996Z"
    }
   },
   "outputs": [],
   "source": [
    "model = Word2Vec.load('bz2vec.model')"
   ]
  },
  {
   "cell_type": "code",
   "execution_count": 3,
   "metadata": {
    "ExecuteTime": {
     "end_time": "2019-08-21T05:08:25.465731Z",
     "start_time": "2019-08-21T05:08:25.452921Z"
    }
   },
   "outputs": [],
   "source": [
    "def transfer_bz(text):\n",
    "    \"\"\"\"\n",
    "    modelの辞書にあれば、その単語に最も類似度の高い単語に置換\n",
    "    なければそのまま。これにより接続語の処理も回避できる\n",
    "    \"\"\"\n",
    "    tagger = MeCab.Tagger('/usr/local/lib/mecab/dic/mecab-ipadic-neologd/')\n",
    "    tagger.parse('')\n",
    "    node = tagger.parseToNode(text)\n",
    "    word_list = []\n",
    "    while node:\n",
    "        pos = node.feature.split(\",\")[0]\n",
    "        word = node.surface\n",
    "        if len(word) > 0:\n",
    "#             if word in model.wv.vocab and pos in [\"名詞\", \"動詞\", \"形容詞\"]:\n",
    "            if word in model.wv.vocab:\n",
    "                similor_word = model.wv.most_similar(positive=word, topn=1)[0][0]\n",
    "                word_list.append(similor_word)\n",
    "                print(word, similor_word)\n",
    "            else:\n",
    "                word_list.append(word)\n",
    "        node = node.next\n",
    "    return \" \".join(word_list)"
   ]
  },
  {
   "cell_type": "code",
   "execution_count": 4,
   "metadata": {
    "ExecuteTime": {
     "end_time": "2019-08-21T05:08:34.420254Z",
     "start_time": "2019-08-21T05:08:34.285075Z"
    }
   },
   "outputs": [
    {
     "name": "stdout",
     "output_type": "stream",
     "text": [
      "あなた 君\n",
      "好き 泣い\n",
      "な 脆い\n",
      "私 真新しい\n",
      "ない なる\n",
      "何 僕\n",
      "まわり れる\n",
      "コ おい\n",
      "たち 感じる\n",
      "いる 僕\n",
      "もん 損\n",
      "な 脆い\n",
      "花 咲く\n",
      "気づい とき\n",
      "くれ 純情\n",
      "ない なる\n",
      "流れる blues\n",
      "知ら あなた\n",
      "間 ながい\n",
      "リズム 出す\n",
      "合わせ 忙しい\n",
      "止め 比べ\n",
      "られ たより\n",
      "ない なる\n",
      "今 ところ\n",
      "気持ち 薄い\n",
      "よ 揺らし\n",
      "未来 曖昧\n",
      "悪く 仕事\n",
      "ない なる\n",
      "よ 揺らし\n",
      "呼ぶ 憎しみ\n",
      "笑顔 弾ける\n",
      "見せる ゲーム\n",
      "ハート 己\n",
      "今日 くだらない\n",
      "よく すりゃ\n",
      "しよ いつ\n",
      "人生 妙\n",
      "捨て かも\n",
      "もん 損\n",
      "ない なる\n",
      "よ 揺らし\n",
      "奇跡 連続\n",
      "あなた 君\n",
      "どこ 感じ\n",
      "で 破れ\n",
      "予感 開ける\n"
     ]
    }
   ],
   "source": [
    "fortune = \" あなたのことが好きなのに私にまるで興味ない何度目かの失恋の準備Yeah! Yeah! Yeah!まわりを見れば大勢の可愛いコたちがいるんだもん地味な花は気づいてくれないYeah! Yeah! Yeah!カフェテリア流れるMusic知らぬ間にリズムに合わせつま先から動き出す止められない今の気持ちカモンカモンカモンカモンベイビー占ってよ恋するフォーチュンクッキー!未来はそんな悪くないよHey! Hey! Hey!ツキを呼ぶには笑顔を見せることハートのフォーチュンクッキー運勢今日よりもよくしようHey! Hey! Hey!Hey! Hey! Hey!人生捨てたもんじゃないよねあっと驚く奇跡が起きるあなたとどこかで愛し合える予感\"\n",
    "fortune_transfer_bz = transfer_bz(fortune)"
   ]
  },
  {
   "cell_type": "code",
   "execution_count": 5,
   "metadata": {
    "ExecuteTime": {
     "end_time": "2019-08-21T05:08:35.156547Z",
     "start_time": "2019-08-21T05:08:35.143828Z"
    }
   },
   "outputs": [
    {
     "data": {
      "text/plain": [
       "' あなたのことが好きなのに私にまるで興味ない何度目かの失恋の準備Yeah! Yeah! Yeah!まわりを見れば大勢の可愛いコたちがいるんだもん地味な花は気づいてくれないYeah! Yeah! Yeah!カフェテリア流れるMusic知らぬ間にリズムに合わせつま先から動き出す止められない今の気持ちカモンカモンカモンカモンベイビー占ってよ恋するフォーチュンクッキー!未来はそんな悪くないよHey! Hey! Hey!ツキを呼ぶには笑顔を見せることハートのフォーチュンクッキー運勢今日よりもよくしようHey! Hey! Hey!Hey! Hey! Hey!人生捨てたもんじゃないよねあっと驚く奇跡が起きるあなたとどこかで愛し合える予感'"
      ]
     },
     "execution_count": 5,
     "metadata": {},
     "output_type": "execute_result"
    }
   ],
   "source": [
    "fortune"
   ]
  },
  {
   "cell_type": "code",
   "execution_count": 7,
   "metadata": {
    "ExecuteTime": {
     "end_time": "2019-08-21T05:08:41.231024Z",
     "start_time": "2019-08-21T05:08:41.224788Z"
    }
   },
   "outputs": [
    {
     "data": {
      "text/plain": [
       "'君 の こと が 泣い 脆い のに 真新しい に まるで 興味 なる 僕 度目 か の 失恋 の 準備 Yeah ! Yeah ! Yeah ! れる を 見れ ば 大勢 の 可愛い おい 感じる が 僕 ん だ 損 地味 脆い 咲く は とき て 純情 なる Yeah ! Yeah ! Yeah ! カフェテリア blues Music あなた ぬ ながい に 出す に 忙しい つま先 から 動き出す 比べ たより なる ところ の 薄い カモンカモンカモンカモンベイビー 占っ て 揺らし 恋する フォーチュン クッキー ! 曖昧 は そんな 仕事 なる 揺らし Hey ! Hey ! Hey ! ツキ を 憎しみ に は 弾ける を ゲーム こと 己 の フォーチュン クッキー 運勢 くだらない より も すりゃ いつ う Hey ! Hey ! Hey ! Hey ! Hey ! Hey ! 妙 かも た 損 じゃ なる 揺らし ね あっと 驚く 連続 が 起きる 君 と 感じ か 破れ 愛し合える 開ける'"
      ]
     },
     "execution_count": 7,
     "metadata": {},
     "output_type": "execute_result"
    }
   ],
   "source": [
    "fortune_transfer_bz"
   ]
  },
  {
   "cell_type": "code",
   "execution_count": null,
   "metadata": {},
   "outputs": [],
   "source": []
  }
 ],
 "metadata": {
  "kernelspec": {
   "display_name": "Python 3",
   "language": "python",
   "name": "python3"
  },
  "language_info": {
   "codemirror_mode": {
    "name": "ipython",
    "version": 3
   },
   "file_extension": ".py",
   "mimetype": "text/x-python",
   "name": "python",
   "nbconvert_exporter": "python",
   "pygments_lexer": "ipython3",
   "version": "3.5.6"
  },
  "toc": {
   "base_numbering": 1,
   "nav_menu": {},
   "number_sections": true,
   "sideBar": true,
   "skip_h1_title": false,
   "title_cell": "Table of Contents",
   "title_sidebar": "Contents",
   "toc_cell": false,
   "toc_position": {},
   "toc_section_display": true,
   "toc_window_display": false
  },
  "varInspector": {
   "cols": {
    "lenName": 16,
    "lenType": 16,
    "lenVar": 40
   },
   "kernels_config": {
    "python": {
     "delete_cmd_postfix": "",
     "delete_cmd_prefix": "del ",
     "library": "var_list.py",
     "varRefreshCmd": "print(var_dic_list())"
    },
    "r": {
     "delete_cmd_postfix": ") ",
     "delete_cmd_prefix": "rm(",
     "library": "var_list.r",
     "varRefreshCmd": "cat(var_dic_list()) "
    }
   },
   "types_to_exclude": [
    "module",
    "function",
    "builtin_function_or_method",
    "instance",
    "_Feature"
   ],
   "window_display": false
  }
 },
 "nbformat": 4,
 "nbformat_minor": 2
}
